{
 "cells": [
  {
   "cell_type": "code",
   "execution_count": null,
   "id": "f11bdfad",
   "metadata": {
    "_cell_guid": "b1076dfc-b9ad-4769-8c92-a6c4dae69d19",
    "_uuid": "8f2839f25d086af736a60e9eeb907d3b93b6e0e5",
    "papermill": {
     "duration": 0.002155,
     "end_time": "2025-03-02T14:58:58.801298",
     "exception": false,
     "start_time": "2025-03-02T14:58:58.799143",
     "status": "completed"
    },
    "tags": []
   },
   "outputs": [],
   "source": []
  },
  {
   "cell_type": "code",
   "execution_count": 1,
   "id": "ac01feea",
   "metadata": {
    "execution": {
     "iopub.execute_input": "2025-03-02T14:58:58.806466Z",
     "iopub.status.busy": "2025-03-02T14:58:58.806045Z",
     "iopub.status.idle": "2025-03-02T14:58:58.822128Z",
     "shell.execute_reply": "2025-03-02T14:58:58.820941Z"
    },
    "papermill": {
     "duration": 0.02056,
     "end_time": "2025-03-02T14:58:58.823791",
     "exception": false,
     "start_time": "2025-03-02T14:58:58.803231",
     "status": "completed"
    },
    "tags": []
   },
   "outputs": [
    {
     "name": "stdout",
     "output_type": "stream",
     "text": [
      "All datasets extracted successfully!\n"
     ]
    }
   ],
   "source": [
    "import os\n",
    "import zipfile\n",
    "\n",
    "# Paths to your datasets\n",
    "data_folders = [\n",
    "    \"/kaggle/input/test-labeled\",\n",
    "    \"/kaggle/input/test-unlabeled\",\n",
    "    \"/kaggle/input/train-data\"\n",
    "]\n",
    "\n",
    "output_path = \"/kaggle/working/\"  # Extracting files here\n",
    "\n",
    "# Unzip all files\n",
    "for folder in data_folders:\n",
    "    for file in os.listdir(folder):\n",
    "        if file.endswith(\".zip\"):\n",
    "            file_path = os.path.join(folder, file)\n",
    "            with zipfile.ZipFile(file_path, 'r') as zip_ref:\n",
    "                zip_ref.extractall(output_path)\n",
    "\n",
    "print(\"All datasets extracted successfully!\")\n"
   ]
  },
  {
   "cell_type": "code",
   "execution_count": null,
   "id": "590f55ef",
   "metadata": {
    "execution": {
     "iopub.execute_input": "2025-03-02T07:17:16.825573Z",
     "iopub.status.busy": "2025-03-02T07:17:16.825348Z",
     "iopub.status.idle": "2025-03-02T07:17:49.219291Z",
     "shell.execute_reply": "2025-03-02T07:17:49.218133Z",
     "shell.execute_reply.started": "2025-03-02T07:17:16.825551Z"
    },
    "papermill": {
     "duration": 0.001404,
     "end_time": "2025-03-02T14:58:58.827117",
     "exception": false,
     "start_time": "2025-03-02T14:58:58.825713",
     "status": "completed"
    },
    "tags": []
   },
   "outputs": [],
   "source": []
  }
 ],
 "metadata": {
  "kaggle": {
   "accelerator": "none",
   "dataSources": [
    {
     "datasetId": 6773262,
     "sourceId": 10898707,
     "sourceType": "datasetVersion"
    },
    {
     "datasetId": 6773269,
     "sourceId": 10898715,
     "sourceType": "datasetVersion"
    },
    {
     "datasetId": 6773275,
     "sourceId": 10898723,
     "sourceType": "datasetVersion"
    }
   ],
   "dockerImageVersionId": 30918,
   "isGpuEnabled": false,
   "isInternetEnabled": false,
   "language": "python",
   "sourceType": "notebook"
  },
  "kernelspec": {
   "display_name": "Python 3",
   "language": "python",
   "name": "python3"
  },
  "language_info": {
   "codemirror_mode": {
    "name": "ipython",
    "version": 3
   },
   "file_extension": ".py",
   "mimetype": "text/x-python",
   "name": "python",
   "nbconvert_exporter": "python",
   "pygments_lexer": "ipython3",
   "version": "3.10.12"
  },
  "papermill": {
   "default_parameters": {},
   "duration": 3.209902,
   "end_time": "2025-03-02T14:58:59.246614",
   "environment_variables": {},
   "exception": null,
   "input_path": "__notebook__.ipynb",
   "output_path": "__notebook__.ipynb",
   "parameters": {},
   "start_time": "2025-03-02T14:58:56.036712",
   "version": "2.6.0"
  }
 },
 "nbformat": 4,
 "nbformat_minor": 5
}
