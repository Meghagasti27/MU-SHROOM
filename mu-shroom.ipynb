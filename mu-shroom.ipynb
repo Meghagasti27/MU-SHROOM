{
 "cells": [
  {
   "cell_type": "code",
   "execution_count": null,
   "id": "1d242738",
   "metadata": {
    "_cell_guid": "b1076dfc-b9ad-4769-8c92-a6c4dae69d19",
    "_uuid": "8f2839f25d086af736a60e9eeb907d3b93b6e0e5",
    "papermill": {
     "duration": 0.001782,
     "end_time": "2025-03-08T18:43:16.066707",
     "exception": false,
     "start_time": "2025-03-08T18:43:16.064925",
     "status": "completed"
    },
    "tags": []
   },
   "outputs": [],
   "source": []
  },
  {
   "cell_type": "code",
   "execution_count": 1,
   "id": "d5ffabe0",
   "metadata": {
    "execution": {
     "iopub.execute_input": "2025-03-08T18:43:16.070681Z",
     "iopub.status.busy": "2025-03-08T18:43:16.070299Z",
     "iopub.status.idle": "2025-03-08T18:43:16.088562Z",
     "shell.execute_reply": "2025-03-08T18:43:16.087406Z"
    },
    "papermill": {
     "duration": 0.022037,
     "end_time": "2025-03-08T18:43:16.090115",
     "exception": false,
     "start_time": "2025-03-08T18:43:16.068078",
     "status": "completed"
    },
    "tags": []
   },
   "outputs": [
    {
     "name": "stdout",
     "output_type": "stream",
     "text": [
      "All datasets processed successfully!\n"
     ]
    }
   ],
   "source": [
    "import os\n",
    "import zipfile\n",
    "\n",
    "# Paths to your datasets\n",
    "data_folders = [\n",
    "    \"/kaggle/input/test-labeled\",\n",
    "    \"/kaggle/input/test-unlabeled\",\n",
    "    \"/kaggle/input/train-data\"\n",
    "]\n",
    "\n",
    "output_path = \"/kaggle/working/\"  # Extracting files here\n",
    "\n",
    "# Unzip all files\n",
    "for folder in data_folders:\n",
    "    if os.path.exists(folder):  # Check if the folder exists\n",
    "        for file in os.listdir(folder):\n",
    "            if file.endswith(\".zip\"):\n",
    "                file_path = os.path.join(folder, file)\n",
    "                extract_path = os.path.join(output_path, os.path.splitext(file)[0])  # Extract to a subfolder\n",
    "\n",
    "                if not os.path.exists(extract_path):  # Avoid re-extracting\n",
    "                    try:\n",
    "                        with zipfile.ZipFile(file_path, 'r') as zip_ref:\n",
    "                            zip_ref.extractall(extract_path)\n",
    "                        print(f\"Extracted: {file} to {extract_path}\")\n",
    "                    except zipfile.BadZipFile:\n",
    "                        print(f\"Error: Corrupted zip file - {file}\")\n",
    "                else:\n",
    "                    print(f\"Skipping extraction (already exists): {file}\")\n",
    "\n",
    "print(\"All datasets processed successfully!\")\n",
    "\n"
   ]
  },
  {
   "cell_type": "markdown",
   "id": "4757ff25",
   "metadata": {
    "papermill": {
     "duration": 0.001034,
     "end_time": "2025-03-08T18:43:16.092710",
     "exception": false,
     "start_time": "2025-03-08T18:43:16.091676",
     "status": "completed"
    },
    "tags": []
   },
   "source": []
  }
 ],
 "metadata": {
  "kaggle": {
   "accelerator": "none",
   "dataSources": [
    {
     "datasetId": 6773262,
     "sourceId": 10898707,
     "sourceType": "datasetVersion"
    },
    {
     "datasetId": 6773269,
     "sourceId": 10898715,
     "sourceType": "datasetVersion"
    },
    {
     "datasetId": 6773275,
     "sourceId": 10898723,
     "sourceType": "datasetVersion"
    }
   ],
   "dockerImageVersionId": 30918,
   "isGpuEnabled": false,
   "isInternetEnabled": false,
   "language": "python",
   "sourceType": "notebook"
  },
  "kernelspec": {
   "display_name": "Python 3",
   "language": "python",
   "name": "python3"
  },
  "language_info": {
   "codemirror_mode": {
    "name": "ipython",
    "version": 3
   },
   "file_extension": ".py",
   "mimetype": "text/x-python",
   "name": "python",
   "nbconvert_exporter": "python",
   "pygments_lexer": "ipython3",
   "version": "3.10.12"
  },
  "papermill": {
   "default_parameters": {},
   "duration": 2.490217,
   "end_time": "2025-03-08T18:43:16.410918",
   "environment_variables": {},
   "exception": null,
   "input_path": "__notebook__.ipynb",
   "output_path": "__notebook__.ipynb",
   "parameters": {},
   "start_time": "2025-03-08T18:43:13.920701",
   "version": "2.6.0"
  }
 },
 "nbformat": 4,
 "nbformat_minor": 5
}
